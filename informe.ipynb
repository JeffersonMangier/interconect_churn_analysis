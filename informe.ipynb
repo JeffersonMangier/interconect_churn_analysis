{
 "cells": [
  {
   "cell_type": "markdown",
   "metadata": {},
   "source": [
    "# Informe de Solución\n"
   ]
  },
  {
   "cell_type": "markdown",
   "metadata": {},
   "source": [
    "## 1. ¿Qué pasos del plan se realizaron y qué pasos se omitieron?"
   ]
  },
  {
   "cell_type": "markdown",
   "metadata": {},
   "source": [
    "### Pasos realizados:\n",
    "\n",
    "- **Preprocesamiento de datos:** Se realizó la limpieza de los datos, incluyendo el manejo de valores nulos, transformación de columnas categóricas (como la conversión de 'Yes'/'No' a 1 y 0), y el escalado de las variables numéricas.\n",
    "- **Exploración de datos:** Se analizaron las tasas de cancelación en función de varias características como el tipo de contrato, método de pago y tiempo de permanencia.\n",
    "- **División de los datos:** Se dividieron los datos en conjuntos de entrenamiento, validación y prueba.\n",
    "- **Modelado:** Se implementaron varios modelos de machine learning (Árbol de Decisión, Bosque Aleatorio, LightGBM y XGBoost) con GridSearchCV para encontrar los mejores hiperparámetros.\n",
    "- **Sobremuestreo y submuestreo:** Se aplicaron técnicas de upsampling y downsampling para abordar el desequilibrio de clases en el conjunto de datos."
   ]
  },
  {
   "cell_type": "markdown",
   "metadata": {},
   "source": [
    "### Pasos omitidos:\n",
    "\n",
    "- **Modelado con redes neuronales:** Este paso fue omitido debido a limitaciones de tiempo y la complejidad adicional que no era estrictamente necesaria para cumplir con los objetivos del proyecto. Sin embargo, se considera como una posible mejora futura si se requiere un aumento en la precisión del modelo."
   ]
  },
  {
   "cell_type": "markdown",
   "metadata": {},
   "source": [
    "## 2. ¿Qué dificultades encontraste y cómo lograste resolverlas?"
   ]
  },
  {
   "cell_type": "markdown",
   "metadata": {},
   "source": [
    "- **Desequilibrio de clases:** Una de las dificultades principales fue el desequilibrio entre clientes que cancelaron y los que no. Para resolver esto, se implementaron técnicas de sobremuestreo (upsampling) y submuestreo (downsampling), lo que permitió mejorar la precisión de los modelos sin comprometer la estabilidad.\n",
    "\n",
    "- **Transformación de variables categóricas:** Hubo un desafío al convertir valores como 'Yes' y 'No' en datos numéricos sin crear columnas adicionales innecesarias. Esto se resolvió con una función personalizada para transformar estos valores y reemplazar los nulos por la moda."
   ]
  },
  {
   "cell_type": "markdown",
   "metadata": {},
   "source": [
    "## 3. ¿Cuáles fueron algunos de los pasos clave para resolver la tarea?"
   ]
  },
  {
   "cell_type": "markdown",
   "metadata": {},
   "source": [
    "- **Preprocesamiento de datos:** El paso más crítico fue limpiar y estructurar adecuadamente los datos, reemplazando valores nulos y asegurando que las variables categóricas estuvieran correctamente codificadas.\n",
    "\n",
    "- **Sobremuestreo y submuestreo:** La aplicación de estas técnicas mejoró significativamente la capacidad de los modelos para manejar el desequilibrio de clases, mejorando tanto la precisión como la capacidad predictiva.\n",
    "\n",
    "- **GridSearchCV:** La implementación de GridSearchCV fue clave para optimizar los hiperparámetros de los modelos, lo que permitió mejorar el rendimiento general y elegir el mejor modelo para el conjunto de datos."
   ]
  },
  {
   "cell_type": "markdown",
   "metadata": {},
   "source": [
    "## 4. ¿Cuál es tu modelo final y qué nivel de calidad tiene?"
   ]
  },
  {
   "cell_type": "markdown",
   "metadata": {},
   "source": [
    "El modelo final seleccionado fue LightGBM, utilizando sobremuestreo. Este modelo ofreció los mejores resultados en términos de AUC-ROC (0.9318), exactitud (88.29%), y F1 Score (0.78). Los resultados indican un excelente equilibrio entre la tasa de falsos positivos y verdaderos positivos, lo que lo convierte en una excelente opción para predecir la cancelación de clientes en este conjunto de datos.\n",
    "\n",
    "En resumen, LightGBM con sobremuestreo proporcionó el mejor rendimiento general y es el modelo recomendado para la predicción de cancelaciones en Interconnect."
   ]
  },
  {
   "cell_type": "markdown",
   "metadata": {},
   "source": []
  }
 ],
 "metadata": {
  "language_info": {
   "name": "python"
  }
 },
 "nbformat": 4,
 "nbformat_minor": 2
}
