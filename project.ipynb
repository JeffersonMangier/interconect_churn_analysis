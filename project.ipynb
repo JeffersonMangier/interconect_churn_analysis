{
 "cells": [
  {
   "cell_type": "markdown",
   "metadata": {},
   "source": [
    "## Proyecto Final"
   ]
  },
  {
   "cell_type": "markdown",
   "metadata": {},
   "source": [
    "Al operador de telecomunicaciones Interconnect le gustaría poder pronosticar su tasa de cancelación de clientes. Si se descubre que un usuario o usuaria planea irse, se le ofrecerán códigos promocionales y opciones de planes especiales. El equipo de marketing de Interconnect ha recopilado algunos de los datos personales de sus clientes, incluyendo información sobre sus planes y contratos."
   ]
  },
  {
   "cell_type": "markdown",
   "metadata": {},
   "source": [
    "## Importación de datos"
   ]
  },
  {
   "cell_type": "code",
   "execution_count": 1,
   "metadata": {},
   "outputs": [],
   "source": [
    "import pandas as pd\n",
    "import matplotlib.pyplot as plt\n",
    "import seaborn as sns\n",
    "import time\n",
    "from sklearn.preprocessing import StandardScaler\n",
    "from sklearn.model_selection import train_test_split\n",
    "from sklearn.utils import shuffle\n",
    "from sklearn.metrics import roc_auc_score\n",
    "from sklearn.metrics import roc_curve\n",
    "from sklearn.metrics import confusion_matrix\n",
    "from sklearn.tree import DecisionTreeClassifier\n",
    "from sklearn.ensemble import RandomForestClassifier\n",
    "from sklearn.linear_model import LogisticRegression\n",
    "from sklearn.model_selection import GridSearchCV\n",
    "\n",
    "from xgboost import XGBClassifier\n",
    "from lightgbm import LGBMClassifier\n",
    "\n",
    "import numpy as np\n",
    "import re"
   ]
  },
  {
   "cell_type": "markdown",
   "metadata": {},
   "source": [
    "### Descripción de los datos\n",
    "\n",
    "Los datos consisten en archivos obtenidos de diferentes fuentes:"
   ]
  },
  {
   "cell_type": "markdown",
   "metadata": {},
   "source": [
    "- `contract.csv` — información del contrato;\n",
    "- `personal.csv` — datos personales del cliente;\n",
    "- `internet.csv` — información sobre los servicios de Internet;\n",
    "- `phone.csv` — información sobre los servicios telefónicos.\n",
    "\n",
    "En cada archivo, la columna `customerID` (ID de cliente) contiene un código único asignado a cada cliente. La información del contrato es válida a partir del 1 de febrero de 2020."
   ]
  },
  {
   "cell_type": "code",
   "execution_count": 2,
   "metadata": {},
   "outputs": [],
   "source": [
    "## Importamos los datasets\n",
    "contract = pd.read_csv('datasets/contract.csv')\n",
    "personal = pd.read_csv('datasets/personal.csv')\n",
    "internet = pd.read_csv('datasets/internet.csv')\n",
    "phone = pd.read_csv('datasets/phone.csv')"
   ]
  },
  {
   "cell_type": "markdown",
   "metadata": {},
   "source": [
    "## Preprocesamiento de los datos"
   ]
  },
  {
   "cell_type": "markdown",
   "metadata": {},
   "source": [
    "**Contract**"
   ]
  },
  {
   "cell_type": "code",
   "execution_count": 3,
   "metadata": {},
   "outputs": [
    {
     "name": "stdout",
     "output_type": "stream",
     "text": [
      "<class 'pandas.core.frame.DataFrame'>\n",
      "RangeIndex: 7043 entries, 0 to 7042\n",
      "Data columns (total 8 columns):\n",
      " #   Column            Non-Null Count  Dtype  \n",
      "---  ------            --------------  -----  \n",
      " 0   customerID        7043 non-null   object \n",
      " 1   BeginDate         7043 non-null   object \n",
      " 2   EndDate           7043 non-null   object \n",
      " 3   Type              7043 non-null   object \n",
      " 4   PaperlessBilling  7043 non-null   object \n",
      " 5   PaymentMethod     7043 non-null   object \n",
      " 6   MonthlyCharges    7043 non-null   float64\n",
      " 7   TotalCharges      7043 non-null   object \n",
      "dtypes: float64(1), object(7)\n",
      "memory usage: 440.3+ KB\n",
      "\n",
      "==================================================\n",
      "\n",
      "       MonthlyCharges\n",
      "count     7043.000000\n",
      "mean        64.761692\n",
      "std         30.090047\n",
      "min         18.250000\n",
      "25%         35.500000\n",
      "50%         70.350000\n",
      "75%         89.850000\n",
      "max        118.750000\n",
      "\n",
      "==================================================\n",
      "\n",
      "customerID          0\n",
      "BeginDate           0\n",
      "EndDate             0\n",
      "Type                0\n",
      "PaperlessBilling    0\n",
      "PaymentMethod       0\n",
      "MonthlyCharges      0\n",
      "TotalCharges        0\n",
      "dtype: int64\n",
      "\n",
      "==================================================\n",
      "\n",
      "customerID            0\n",
      "BeginDate             0\n",
      "EndDate               0\n",
      "Type                  0\n",
      "PaperlessBilling      0\n",
      "PaymentMethod         0\n",
      "MonthlyCharges      0.0\n",
      "TotalCharges          0\n",
      "dtype: object\n",
      "\n",
      "==================================================\n",
      "\n"
     ]
    },
    {
     "data": {
      "text/html": [
       "<div>\n",
       "<style scoped>\n",
       "    .dataframe tbody tr th:only-of-type {\n",
       "        vertical-align: middle;\n",
       "    }\n",
       "\n",
       "    .dataframe tbody tr th {\n",
       "        vertical-align: top;\n",
       "    }\n",
       "\n",
       "    .dataframe thead th {\n",
       "        text-align: right;\n",
       "    }\n",
       "</style>\n",
       "<table border=\"1\" class=\"dataframe\">\n",
       "  <thead>\n",
       "    <tr style=\"text-align: right;\">\n",
       "      <th></th>\n",
       "      <th>customerID</th>\n",
       "      <th>BeginDate</th>\n",
       "      <th>EndDate</th>\n",
       "      <th>Type</th>\n",
       "      <th>PaperlessBilling</th>\n",
       "      <th>PaymentMethod</th>\n",
       "      <th>MonthlyCharges</th>\n",
       "      <th>TotalCharges</th>\n",
       "    </tr>\n",
       "  </thead>\n",
       "  <tbody>\n",
       "    <tr>\n",
       "      <th>4104</th>\n",
       "      <td>3345-PBBFH</td>\n",
       "      <td>2019-06-01</td>\n",
       "      <td>No</td>\n",
       "      <td>Month-to-month</td>\n",
       "      <td>Yes</td>\n",
       "      <td>Bank transfer (automatic)</td>\n",
       "      <td>49.55</td>\n",
       "      <td>393.45</td>\n",
       "    </tr>\n",
       "    <tr>\n",
       "      <th>5650</th>\n",
       "      <td>6047-SUHPR</td>\n",
       "      <td>2016-11-01</td>\n",
       "      <td>No</td>\n",
       "      <td>One year</td>\n",
       "      <td>No</td>\n",
       "      <td>Electronic check</td>\n",
       "      <td>59.80</td>\n",
       "      <td>2343.85</td>\n",
       "    </tr>\n",
       "    <tr>\n",
       "      <th>3323</th>\n",
       "      <td>4203-QGNZA</td>\n",
       "      <td>2017-10-01</td>\n",
       "      <td>No</td>\n",
       "      <td>Month-to-month</td>\n",
       "      <td>No</td>\n",
       "      <td>Mailed check</td>\n",
       "      <td>20.25</td>\n",
       "      <td>535.35</td>\n",
       "    </tr>\n",
       "    <tr>\n",
       "      <th>3187</th>\n",
       "      <td>7682-AZNDK</td>\n",
       "      <td>2017-04-01</td>\n",
       "      <td>No</td>\n",
       "      <td>Month-to-month</td>\n",
       "      <td>Yes</td>\n",
       "      <td>Electronic check</td>\n",
       "      <td>89.85</td>\n",
       "      <td>3091.75</td>\n",
       "    </tr>\n",
       "    <tr>\n",
       "      <th>4310</th>\n",
       "      <td>8908-NMQTX</td>\n",
       "      <td>2014-02-01</td>\n",
       "      <td>No</td>\n",
       "      <td>Two year</td>\n",
       "      <td>Yes</td>\n",
       "      <td>Bank transfer (automatic)</td>\n",
       "      <td>65.60</td>\n",
       "      <td>4566.5</td>\n",
       "    </tr>\n",
       "  </tbody>\n",
       "</table>\n",
       "</div>"
      ],
      "text/plain": [
       "      customerID   BeginDate EndDate            Type PaperlessBilling  \\\n",
       "4104  3345-PBBFH  2019-06-01      No  Month-to-month              Yes   \n",
       "5650  6047-SUHPR  2016-11-01      No        One year               No   \n",
       "3323  4203-QGNZA  2017-10-01      No  Month-to-month               No   \n",
       "3187  7682-AZNDK  2017-04-01      No  Month-to-month              Yes   \n",
       "4310  8908-NMQTX  2014-02-01      No        Two year              Yes   \n",
       "\n",
       "                  PaymentMethod  MonthlyCharges TotalCharges  \n",
       "4104  Bank transfer (automatic)           49.55       393.45  \n",
       "5650           Electronic check           59.80      2343.85  \n",
       "3323               Mailed check           20.25       535.35  \n",
       "3187           Electronic check           89.85      3091.75  \n",
       "4310  Bank transfer (automatic)           65.60       4566.5  "
      ]
     },
     "metadata": {},
     "output_type": "display_data"
    }
   ],
   "source": [
    "contract.info()\n",
    "print(\"\\n\" + \"=\"*50 + \"\\n\")\n",
    "print(contract.describe())\n",
    "print(\"\\n\" + \"=\"*50 + \"\\n\")\n",
    "print(contract.isnull().sum())\n",
    "print(\"\\n\" + \"=\"*50 + \"\\n\")\n",
    "print(contract[contract.duplicated].sum())\n",
    "print(\"\\n\" + \"=\"*50 + \"\\n\")\n",
    "display(contract.sample(5))"
   ]
  },
  {
   "cell_type": "markdown",
   "metadata": {},
   "source": [
    "Convertimos los nombres de las columnas a snake_case para estandarizar el formato."
   ]
  },
  {
   "cell_type": "code",
   "execution_count": 4,
   "metadata": {},
   "outputs": [
    {
     "name": "stdout",
     "output_type": "stream",
     "text": [
      "Nombres de columnas normalizados:\n",
      "Index(['customer_id', 'begin_date', 'end_date', 'type', 'paperless_billing',\n",
      "       'payment_method', 'monthly_charges', 'total_charges'],\n",
      "      dtype='object')\n"
     ]
    }
   ],
   "source": [
    "# Función para convertir nombres de columnas a snake_case, incluyendo customerID a customer_id\n",
    "def to_snake_case(col_name):\n",
    "    # Convertir customerID a customer_id específicamente\n",
    "    if col_name == 'customerID':\n",
    "        return 'customer_id'\n",
    "    # Convertir a snake_case el resto de columnas\n",
    "    snake_case_col = '_'.join(re.findall(r'[A-Z][a-z0-9]*', col_name)).lower()\n",
    "    return snake_case_col\n",
    "\n",
    "# Convertir nombres de columnas a snake_case\n",
    "snake_case_cols = [to_snake_case(col) for col in contract.columns]\n",
    "contract.columns = snake_case_cols\n",
    "\n",
    "# Verificar los nombres de las columnas después de la conversión\n",
    "print('Nombres de columnas normalizados:')\n",
    "print(contract.columns)"
   ]
  },
  {
   "cell_type": "markdown",
   "metadata": {},
   "source": [
    "Convertimos la columna `'begin_date'` a tipo `datetime`"
   ]
  },
  {
   "cell_type": "code",
   "execution_count": 5,
   "metadata": {},
   "outputs": [
    {
     "name": "stdout",
     "output_type": "stream",
     "text": [
      "datetime64[ns]\n",
      "0   2020-01-01\n",
      "1   2017-04-01\n",
      "2   2019-10-01\n",
      "3   2016-05-01\n",
      "4   2019-09-01\n",
      "Name: begin_date, dtype: datetime64[ns]\n"
     ]
    }
   ],
   "source": [
    "# Convertir la columna 'begin_date' a tipo datetime\n",
    "contract['begin_date'] = pd.to_datetime(contract['begin_date'], errors='coerce')\n",
    "# Verificar si la conversión fue exitosa\n",
    "print(contract['begin_date'].dtype)  # Debería mostrar 'datetime64[ns]'\n",
    "print(contract['begin_date'].head())  # Ver los primeros valores de la columna"
   ]
  },
  {
   "cell_type": "markdown",
   "metadata": {},
   "source": [
    "Ademas se obeserva que el tipo de datos de las columna `'total_charges'` es `object` y debería ser `float` al igual que la columna `'monthly_charges'` así que vamos a cambiarla. Pero antes se va a revisar si hay datos que no sean números, como por ejemplo buscar si hay filas que tienen solamente un espacio en blanco\n",
    "\n",
    "También se van a buscar si hay filas repetidas."
   ]
  },
  {
   "cell_type": "code",
   "execution_count": 6,
   "metadata": {},
   "outputs": [
    {
     "name": "stdout",
     "output_type": "stream",
     "text": [
      "11\n"
     ]
    }
   ],
   "source": [
    "# Buscamos si hay strings en nuestra columna de 'TotalCharges'\n",
    "print(contract[contract['total_charges'] == ' ']['total_charges'].count())"
   ]
  },
  {
   "cell_type": "markdown",
   "metadata": {},
   "source": [
    "`'total_charges'` debería contener solo valores numéricos (como cantidades facturadas). Encontrar espacios en esta columna significa que esos registros tienen datos faltantes o incorrectos."
   ]
  },
  {
   "cell_type": "code",
   "execution_count": 7,
   "metadata": {},
   "outputs": [
    {
     "name": "stdout",
     "output_type": "stream",
     "text": [
      "float64\n",
      "0      29.85\n",
      "1    1889.50\n",
      "2     108.15\n",
      "3    1840.75\n",
      "4     151.65\n",
      "Name: total_charges, dtype: float64\n"
     ]
    }
   ],
   "source": [
    "# Reemplazar espacios en blanco en 'total_charges' con NaN\n",
    "contract['total_charges'] = contract['total_charges'].replace(' ', pd.NA)\n",
    "\n",
    "# Convertir la columna 'total_charges' a tipo float\n",
    "contract['total_charges'] = pd.to_numeric(contract['total_charges'], errors='coerce')\n",
    "\n",
    "# Verificar si la conversión fue exitosa\n",
    "print(contract['total_charges'].dtype)  # Debería mostrar 'float64'\n",
    "print(contract['total_charges'].head())  # Ver los primeros valores de la columna"
   ]
  },
  {
   "cell_type": "code",
   "execution_count": 8,
   "metadata": {},
   "outputs": [
    {
     "name": "stdout",
     "output_type": "stream",
     "text": [
      "0\n"
     ]
    },
    {
     "name": "stderr",
     "output_type": "stream",
     "text": [
      "C:\\Users\\jpizz\\AppData\\Local\\Temp\\ipykernel_4556\\1974059395.py:5: FutureWarning: A value is trying to be set on a copy of a DataFrame or Series through chained assignment using an inplace method.\n",
      "The behavior will change in pandas 3.0. This inplace method will never work because the intermediate object on which we are setting values always behaves as a copy.\n",
      "\n",
      "For example, when doing 'df[col].method(value, inplace=True)', try using 'df.method({col: value}, inplace=True)' or df[col] = df[col].method(value) instead, to perform the operation inplace on the original object.\n",
      "\n",
      "\n",
      "  contract['total_charges'].fillna(average_total_charges, inplace=True)\n"
     ]
    }
   ],
   "source": [
    "# Calcular el promedio de 'total_charges', omitiendo los valores nulos\n",
    "average_total_charges = contract['total_charges'].mean()\n",
    "\n",
    "# Rellenar los valores nulos con el promedio\n",
    "contract['total_charges'].fillna(average_total_charges, inplace=True)\n",
    "\n",
    "# Verificar si hay valores nulos restantes\n",
    "print(contract['total_charges'].isnull().sum())"
   ]
  },
  {
   "cell_type": "markdown",
   "metadata": {},
   "source": [
    "Ahora los valores de la columna `'total_charges'` han sido corregidos: los espacios vacíos han sido reemplazados con `NaN`, y estos valores nulos fueron rellenados utilizando el promedio de la columna. La conversión a tipo `float` también se realizó con éxito, y al verificar nuevamente, se confirmó que no quedan valores nulos en la columna, lo que nos permite continuar con el análisis sin problemas relacionados con datos faltantes o inconsistentes en esta variable."
   ]
  },
  {
   "cell_type": "markdown",
   "metadata": {},
   "source": [
    "**Personal**"
   ]
  },
  {
   "cell_type": "code",
   "execution_count": 9,
   "metadata": {},
   "outputs": [
    {
     "name": "stdout",
     "output_type": "stream",
     "text": [
      "<class 'pandas.core.frame.DataFrame'>\n",
      "RangeIndex: 7043 entries, 0 to 7042\n",
      "Data columns (total 5 columns):\n",
      " #   Column         Non-Null Count  Dtype \n",
      "---  ------         --------------  ----- \n",
      " 0   customerID     7043 non-null   object\n",
      " 1   gender         7043 non-null   object\n",
      " 2   SeniorCitizen  7043 non-null   int64 \n",
      " 3   Partner        7043 non-null   object\n",
      " 4   Dependents     7043 non-null   object\n",
      "dtypes: int64(1), object(4)\n",
      "memory usage: 275.2+ KB\n",
      "\n",
      "==================================================\n",
      "\n",
      "       SeniorCitizen\n",
      "count    7043.000000\n",
      "mean        0.162147\n",
      "std         0.368612\n",
      "min         0.000000\n",
      "25%         0.000000\n",
      "50%         0.000000\n",
      "75%         0.000000\n",
      "max         1.000000\n",
      "\n",
      "==================================================\n",
      "\n",
      "customerID       0\n",
      "gender           0\n",
      "SeniorCitizen    0\n",
      "Partner          0\n",
      "Dependents       0\n",
      "dtype: int64\n",
      "\n",
      "==================================================\n",
      "\n",
      "customerID       0\n",
      "gender           0\n",
      "SeniorCitizen    0\n",
      "Partner          0\n",
      "Dependents       0\n",
      "dtype: object\n",
      "\n",
      "==================================================\n",
      "\n"
     ]
    },
    {
     "data": {
      "text/html": [
       "<div>\n",
       "<style scoped>\n",
       "    .dataframe tbody tr th:only-of-type {\n",
       "        vertical-align: middle;\n",
       "    }\n",
       "\n",
       "    .dataframe tbody tr th {\n",
       "        vertical-align: top;\n",
       "    }\n",
       "\n",
       "    .dataframe thead th {\n",
       "        text-align: right;\n",
       "    }\n",
       "</style>\n",
       "<table border=\"1\" class=\"dataframe\">\n",
       "  <thead>\n",
       "    <tr style=\"text-align: right;\">\n",
       "      <th></th>\n",
       "      <th>customerID</th>\n",
       "      <th>gender</th>\n",
       "      <th>SeniorCitizen</th>\n",
       "      <th>Partner</th>\n",
       "      <th>Dependents</th>\n",
       "    </tr>\n",
       "  </thead>\n",
       "  <tbody>\n",
       "    <tr>\n",
       "      <th>3442</th>\n",
       "      <td>0468-YRPXN</td>\n",
       "      <td>Male</td>\n",
       "      <td>0</td>\n",
       "      <td>No</td>\n",
       "      <td>No</td>\n",
       "    </tr>\n",
       "    <tr>\n",
       "      <th>2497</th>\n",
       "      <td>5702-SKUOB</td>\n",
       "      <td>Female</td>\n",
       "      <td>0</td>\n",
       "      <td>Yes</td>\n",
       "      <td>No</td>\n",
       "    </tr>\n",
       "    <tr>\n",
       "      <th>1140</th>\n",
       "      <td>9553-DLCLU</td>\n",
       "      <td>Female</td>\n",
       "      <td>0</td>\n",
       "      <td>No</td>\n",
       "      <td>Yes</td>\n",
       "    </tr>\n",
       "    <tr>\n",
       "      <th>4034</th>\n",
       "      <td>4608-LCIMN</td>\n",
       "      <td>Male</td>\n",
       "      <td>0</td>\n",
       "      <td>Yes</td>\n",
       "      <td>Yes</td>\n",
       "    </tr>\n",
       "    <tr>\n",
       "      <th>2590</th>\n",
       "      <td>4526-ZJJTM</td>\n",
       "      <td>Female</td>\n",
       "      <td>1</td>\n",
       "      <td>Yes</td>\n",
       "      <td>No</td>\n",
       "    </tr>\n",
       "  </tbody>\n",
       "</table>\n",
       "</div>"
      ],
      "text/plain": [
       "      customerID  gender  SeniorCitizen Partner Dependents\n",
       "3442  0468-YRPXN    Male              0      No         No\n",
       "2497  5702-SKUOB  Female              0     Yes         No\n",
       "1140  9553-DLCLU  Female              0      No        Yes\n",
       "4034  4608-LCIMN    Male              0     Yes        Yes\n",
       "2590  4526-ZJJTM  Female              1     Yes         No"
      ]
     },
     "metadata": {},
     "output_type": "display_data"
    }
   ],
   "source": [
    "personal.info()\n",
    "print(\"\\n\" + \"=\"*50 + \"\\n\")\n",
    "print(personal.describe())\n",
    "print(\"\\n\" + \"=\"*50 + \"\\n\")\n",
    "print(personal.isnull().sum())\n",
    "print(\"\\n\" + \"=\"*50 + \"\\n\")\n",
    "print(personal[personal.duplicated].sum())\n",
    "print(\"\\n\" + \"=\"*50 + \"\\n\")\n",
    "display(personal.sample(5))"
   ]
  },
  {
   "cell_type": "code",
   "execution_count": 10,
   "metadata": {},
   "outputs": [
    {
     "name": "stdout",
     "output_type": "stream",
     "text": [
      "Nombres de columnas normalizados:\n",
      "Index(['customer_id', 'gender', 'senior_citizen', 'partner', 'dependents'], dtype='object')\n"
     ]
    }
   ],
   "source": [
    "# Función para convertir nombres de columnas a snake_case, incluyendo customerID a customer_id\n",
    "def to_snake_case(col_name):\n",
    "    # Convertir customerID a customer_id específicamente\n",
    "    if col_name == 'customerID':\n",
    "        return 'customer_id'\n",
    "    # Convertir el resto de las columnas a snake_case\n",
    "    # La expresión regular ahora captura los casos de nombres con letras mayúsculas y minúsculas\n",
    "    if not col_name:\n",
    "        return col_name\n",
    "    snake_case_col = '_'.join(re.findall(r'[a-zA-Z][a-z]*', col_name)).lower()\n",
    "    return snake_case_col\n",
    "\n",
    "# Convertir los nombres de las columnas a snake_case\n",
    "snake_case_cols = [to_snake_case(col) for col in personal.columns]\n",
    "personal.columns = snake_case_cols\n",
    "\n",
    "# Verificar los nombres de las columnas después de la conversión\n",
    "print('Nombres de columnas normalizados:')\n",
    "print(personal.columns)"
   ]
  },
  {
   "cell_type": "markdown",
   "metadata": {},
   "source": [
    "Todo está en orden para seguir trabajando"
   ]
  },
  {
   "cell_type": "markdown",
   "metadata": {},
   "source": [
    "**Internet**"
   ]
  },
  {
   "cell_type": "code",
   "execution_count": 11,
   "metadata": {},
   "outputs": [
    {
     "name": "stdout",
     "output_type": "stream",
     "text": [
      "<class 'pandas.core.frame.DataFrame'>\n",
      "RangeIndex: 5517 entries, 0 to 5516\n",
      "Data columns (total 8 columns):\n",
      " #   Column            Non-Null Count  Dtype \n",
      "---  ------            --------------  ----- \n",
      " 0   customerID        5517 non-null   object\n",
      " 1   InternetService   5517 non-null   object\n",
      " 2   OnlineSecurity    5517 non-null   object\n",
      " 3   OnlineBackup      5517 non-null   object\n",
      " 4   DeviceProtection  5517 non-null   object\n",
      " 5   TechSupport       5517 non-null   object\n",
      " 6   StreamingTV       5517 non-null   object\n",
      " 7   StreamingMovies   5517 non-null   object\n",
      "dtypes: object(8)\n",
      "memory usage: 344.9+ KB\n",
      "\n",
      "==================================================\n",
      "\n",
      "        customerID InternetService OnlineSecurity OnlineBackup  \\\n",
      "count         5517            5517           5517         5517   \n",
      "unique        5517               2              2            2   \n",
      "top     3186-AJIEK     Fiber optic             No           No   \n",
      "freq             1            3096           3498         3088   \n",
      "\n",
      "       DeviceProtection TechSupport StreamingTV StreamingMovies  \n",
      "count              5517        5517        5517            5517  \n",
      "unique                2           2           2               2  \n",
      "top                  No          No          No              No  \n",
      "freq               3095        3473        2810            2785  \n",
      "\n",
      "==================================================\n",
      "\n",
      "customerID          0\n",
      "InternetService     0\n",
      "OnlineSecurity      0\n",
      "OnlineBackup        0\n",
      "DeviceProtection    0\n",
      "TechSupport         0\n",
      "StreamingTV         0\n",
      "StreamingMovies     0\n",
      "dtype: int64\n",
      "\n",
      "==================================================\n",
      "\n",
      "customerID          0\n",
      "InternetService     0\n",
      "OnlineSecurity      0\n",
      "OnlineBackup        0\n",
      "DeviceProtection    0\n",
      "TechSupport         0\n",
      "StreamingTV         0\n",
      "StreamingMovies     0\n",
      "dtype: object\n",
      "\n",
      "==================================================\n",
      "\n"
     ]
    },
    {
     "data": {
      "text/html": [
       "<div>\n",
       "<style scoped>\n",
       "    .dataframe tbody tr th:only-of-type {\n",
       "        vertical-align: middle;\n",
       "    }\n",
       "\n",
       "    .dataframe tbody tr th {\n",
       "        vertical-align: top;\n",
       "    }\n",
       "\n",
       "    .dataframe thead th {\n",
       "        text-align: right;\n",
       "    }\n",
       "</style>\n",
       "<table border=\"1\" class=\"dataframe\">\n",
       "  <thead>\n",
       "    <tr style=\"text-align: right;\">\n",
       "      <th></th>\n",
       "      <th>customerID</th>\n",
       "      <th>InternetService</th>\n",
       "      <th>OnlineSecurity</th>\n",
       "      <th>OnlineBackup</th>\n",
       "      <th>DeviceProtection</th>\n",
       "      <th>TechSupport</th>\n",
       "      <th>StreamingTV</th>\n",
       "      <th>StreamingMovies</th>\n",
       "    </tr>\n",
       "  </thead>\n",
       "  <tbody>\n",
       "    <tr>\n",
       "      <th>5415</th>\n",
       "      <td>1450-SKCVI</td>\n",
       "      <td>Fiber optic</td>\n",
       "      <td>No</td>\n",
       "      <td>Yes</td>\n",
       "      <td>No</td>\n",
       "      <td>No</td>\n",
       "      <td>No</td>\n",
       "      <td>No</td>\n",
       "    </tr>\n",
       "    <tr>\n",
       "      <th>1230</th>\n",
       "      <td>2245-ADZFJ</td>\n",
       "      <td>DSL</td>\n",
       "      <td>No</td>\n",
       "      <td>Yes</td>\n",
       "      <td>No</td>\n",
       "      <td>Yes</td>\n",
       "      <td>Yes</td>\n",
       "      <td>Yes</td>\n",
       "    </tr>\n",
       "    <tr>\n",
       "      <th>4709</th>\n",
       "      <td>1555-DJEQW</td>\n",
       "      <td>Fiber optic</td>\n",
       "      <td>Yes</td>\n",
       "      <td>Yes</td>\n",
       "      <td>Yes</td>\n",
       "      <td>Yes</td>\n",
       "      <td>Yes</td>\n",
       "      <td>Yes</td>\n",
       "    </tr>\n",
       "    <tr>\n",
       "      <th>4139</th>\n",
       "      <td>2927-CVULT</td>\n",
       "      <td>Fiber optic</td>\n",
       "      <td>Yes</td>\n",
       "      <td>Yes</td>\n",
       "      <td>Yes</td>\n",
       "      <td>Yes</td>\n",
       "      <td>No</td>\n",
       "      <td>Yes</td>\n",
       "    </tr>\n",
       "    <tr>\n",
       "      <th>2994</th>\n",
       "      <td>6402-EJMWF</td>\n",
       "      <td>DSL</td>\n",
       "      <td>No</td>\n",
       "      <td>No</td>\n",
       "      <td>No</td>\n",
       "      <td>No</td>\n",
       "      <td>No</td>\n",
       "      <td>Yes</td>\n",
       "    </tr>\n",
       "  </tbody>\n",
       "</table>\n",
       "</div>"
      ],
      "text/plain": [
       "      customerID InternetService OnlineSecurity OnlineBackup DeviceProtection  \\\n",
       "5415  1450-SKCVI     Fiber optic             No          Yes               No   \n",
       "1230  2245-ADZFJ             DSL             No          Yes               No   \n",
       "4709  1555-DJEQW     Fiber optic            Yes          Yes              Yes   \n",
       "4139  2927-CVULT     Fiber optic            Yes          Yes              Yes   \n",
       "2994  6402-EJMWF             DSL             No           No               No   \n",
       "\n",
       "     TechSupport StreamingTV StreamingMovies  \n",
       "5415          No          No              No  \n",
       "1230         Yes         Yes             Yes  \n",
       "4709         Yes         Yes             Yes  \n",
       "4139         Yes          No             Yes  \n",
       "2994          No          No             Yes  "
      ]
     },
     "metadata": {},
     "output_type": "display_data"
    }
   ],
   "source": [
    "internet.info()\n",
    "print(\"\\n\" + \"=\"*50 + \"\\n\")\n",
    "print(internet.describe())\n",
    "print(\"\\n\" + \"=\"*50 + \"\\n\")\n",
    "print(internet.isnull().sum())\n",
    "print(\"\\n\" + \"=\"*50 + \"\\n\")\n",
    "print(internet[internet.duplicated].sum())\n",
    "print(\"\\n\" + \"=\"*50 + \"\\n\")\n",
    "display(internet.sample(5))"
   ]
  },
  {
   "cell_type": "code",
   "execution_count": 12,
   "metadata": {},
   "outputs": [
    {
     "name": "stdout",
     "output_type": "stream",
     "text": [
      "Nombres de columnas normalizados:\n",
      "Index(['customer_id', 'internetservice', 'onlinesecurity', 'onlinebackup',\n",
      "       'deviceprotection', 'techsupport', 'streaming_tv', 'streamingmovies'],\n",
      "      dtype='object')\n"
     ]
    }
   ],
   "source": [
    "# Función para convertir nombres de columnas a snake_case, incluyendo customerID a customer_id\n",
    "def to_snake_case(col_name):\n",
    "    # Convertir customerID a customer_id específicamente\n",
    "    if col_name == 'customerID':\n",
    "        return 'customer_id'\n",
    "    # Condición especial para 'streaming_t_v'\n",
    "    if col_name == 'StreamingTV':\n",
    "        return 'streaming_tv'\n",
    "    # Convertir el resto de las columnas a snake_case\n",
    "    if not col_name:\n",
    "        return col_name\n",
    "    # Reemplazar espacios y caracteres no alfanuméricos por guiones bajos\n",
    "    col_name = re.sub(r'[^a-zA-Z0-9]', '_', col_name)\n",
    "    # Asegurarse de que los guiones bajos no se dupliquen\n",
    "    col_name = re.sub(r'_+', '_', col_name)\n",
    "    # Convertir a minúsculas\n",
    "    return col_name.lower()\n",
    "\n",
    "# Convertir los nombres de las columnas a snake_case\n",
    "snake_case_cols = [to_snake_case(col) for col in internet.columns]\n",
    "internet.columns = snake_case_cols\n",
    "\n",
    "# Verificar los nombres de las columnas después de la conversión\n",
    "print('Nombres de columnas normalizados:')\n",
    "print(internet.columns)"
   ]
  },
  {
   "cell_type": "markdown",
   "metadata": {},
   "source": [
    "Todo está en orden para seguir trabajando"
   ]
  },
  {
   "cell_type": "markdown",
   "metadata": {},
   "source": [
    "**Phone**"
   ]
  },
  {
   "cell_type": "code",
   "execution_count": 13,
   "metadata": {},
   "outputs": [
    {
     "name": "stdout",
     "output_type": "stream",
     "text": [
      "<class 'pandas.core.frame.DataFrame'>\n",
      "RangeIndex: 6361 entries, 0 to 6360\n",
      "Data columns (total 2 columns):\n",
      " #   Column         Non-Null Count  Dtype \n",
      "---  ------         --------------  ----- \n",
      " 0   customerID     6361 non-null   object\n",
      " 1   MultipleLines  6361 non-null   object\n",
      "dtypes: object(2)\n",
      "memory usage: 99.5+ KB\n",
      "\n",
      "==================================================\n",
      "\n",
      "        customerID MultipleLines\n",
      "count         6361          6361\n",
      "unique        6361             2\n",
      "top     3186-AJIEK            No\n",
      "freq             1          3390\n",
      "\n",
      "==================================================\n",
      "\n",
      "customerID       0\n",
      "MultipleLines    0\n",
      "dtype: int64\n",
      "\n",
      "==================================================\n",
      "\n",
      "customerID       0\n",
      "MultipleLines    0\n",
      "dtype: object\n",
      "\n",
      "==================================================\n",
      "\n"
     ]
    },
    {
     "data": {
      "text/html": [
       "<div>\n",
       "<style scoped>\n",
       "    .dataframe tbody tr th:only-of-type {\n",
       "        vertical-align: middle;\n",
       "    }\n",
       "\n",
       "    .dataframe tbody tr th {\n",
       "        vertical-align: top;\n",
       "    }\n",
       "\n",
       "    .dataframe thead th {\n",
       "        text-align: right;\n",
       "    }\n",
       "</style>\n",
       "<table border=\"1\" class=\"dataframe\">\n",
       "  <thead>\n",
       "    <tr style=\"text-align: right;\">\n",
       "      <th></th>\n",
       "      <th>customerID</th>\n",
       "      <th>MultipleLines</th>\n",
       "    </tr>\n",
       "  </thead>\n",
       "  <tbody>\n",
       "    <tr>\n",
       "      <th>3309</th>\n",
       "      <td>0512-FLFDW</td>\n",
       "      <td>Yes</td>\n",
       "    </tr>\n",
       "    <tr>\n",
       "      <th>5995</th>\n",
       "      <td>1074-WVEVG</td>\n",
       "      <td>No</td>\n",
       "    </tr>\n",
       "    <tr>\n",
       "      <th>2425</th>\n",
       "      <td>9481-WHGWY</td>\n",
       "      <td>No</td>\n",
       "    </tr>\n",
       "    <tr>\n",
       "      <th>3702</th>\n",
       "      <td>0628-CNQRM</td>\n",
       "      <td>No</td>\n",
       "    </tr>\n",
       "    <tr>\n",
       "      <th>2875</th>\n",
       "      <td>9281-OFDMF</td>\n",
       "      <td>Yes</td>\n",
       "    </tr>\n",
       "  </tbody>\n",
       "</table>\n",
       "</div>"
      ],
      "text/plain": [
       "      customerID MultipleLines\n",
       "3309  0512-FLFDW           Yes\n",
       "5995  1074-WVEVG            No\n",
       "2425  9481-WHGWY            No\n",
       "3702  0628-CNQRM            No\n",
       "2875  9281-OFDMF           Yes"
      ]
     },
     "metadata": {},
     "output_type": "display_data"
    }
   ],
   "source": [
    "phone.info()\n",
    "print(\"\\n\" + \"=\"*50 + \"\\n\")\n",
    "print(phone.describe())\n",
    "print(\"\\n\" + \"=\"*50 + \"\\n\")\n",
    "print(phone.isnull().sum())\n",
    "print(\"\\n\" + \"=\"*50 + \"\\n\")\n",
    "print(phone[phone.duplicated].sum())\n",
    "print(\"\\n\" + \"=\"*50 + \"\\n\")\n",
    "display(phone.sample(5))"
   ]
  },
  {
   "cell_type": "code",
   "execution_count": 14,
   "metadata": {},
   "outputs": [
    {
     "name": "stdout",
     "output_type": "stream",
     "text": [
      "Nombres de columnas normalizados:\n",
      "Index(['customer_id', 'multiple_lines'], dtype='object')\n"
     ]
    }
   ],
   "source": [
    "# Función para convertir nombres de columnas a snake_case, incluyendo customerID a customer_id\n",
    "def to_snake_case(col_name):\n",
    "    # Convertir customerID a customer_id específicamente\n",
    "    if col_name == 'customerID':\n",
    "        return 'customer_id'\n",
    "    # Convertir a snake_case el resto de columnas\n",
    "    snake_case_col = '_'.join(re.findall(r'[A-Z][a-z0-9]*', col_name)).lower()\n",
    "    return snake_case_col\n",
    "\n",
    "# Convertir nombres de columnas a snake_case\n",
    "snake_case_cols = [to_snake_case(col) for col in phone.columns]\n",
    "phone.columns = snake_case_cols\n",
    "\n",
    "# Verificar los nombres de las columnas después de la conversión\n",
    "print('Nombres de columnas normalizados:')\n",
    "print(phone.columns)"
   ]
  },
  {
   "cell_type": "markdown",
   "metadata": {},
   "source": [
    "Todo está en orden para seguir trabajando"
   ]
  },
  {
   "cell_type": "markdown",
   "metadata": {},
   "source": [
    "Antes de seguir voy a unir los datasets ya que se podrá tener una vista integral de cada cliente y hacer un análisis más completo y robusto."
   ]
  },
  {
   "cell_type": "code",
   "execution_count": 15,
   "metadata": {},
   "outputs": [
    {
     "name": "stdout",
     "output_type": "stream",
     "text": [
      "<class 'pandas.core.frame.DataFrame'>\n",
      "RangeIndex: 7043 entries, 0 to 7042\n",
      "Data columns (total 20 columns):\n",
      " #   Column             Non-Null Count  Dtype         \n",
      "---  ------             --------------  -----         \n",
      " 0   customer_id        7043 non-null   object        \n",
      " 1   begin_date         7043 non-null   datetime64[ns]\n",
      " 2   end_date           7043 non-null   object        \n",
      " 3   type               7043 non-null   object        \n",
      " 4   paperless_billing  7043 non-null   object        \n",
      " 5   payment_method     7043 non-null   object        \n",
      " 6   monthly_charges    7043 non-null   float64       \n",
      " 7   total_charges      7043 non-null   float64       \n",
      " 8   gender             7043 non-null   object        \n",
      " 9   senior_citizen     7043 non-null   int64         \n",
      " 10  partner            7043 non-null   object        \n",
      " 11  dependents         7043 non-null   object        \n",
      " 12  internetservice    5517 non-null   object        \n",
      " 13  onlinesecurity     5517 non-null   object        \n",
      " 14  onlinebackup       5517 non-null   object        \n",
      " 15  deviceprotection   5517 non-null   object        \n",
      " 16  techsupport        5517 non-null   object        \n",
      " 17  streaming_tv       5517 non-null   object        \n",
      " 18  streamingmovies    5517 non-null   object        \n",
      " 19  multiple_lines     6361 non-null   object        \n",
      "dtypes: datetime64[ns](1), float64(2), int64(1), object(16)\n",
      "memory usage: 1.1+ MB\n",
      "None\n",
      "  customer_id begin_date             end_date            type  \\\n",
      "0  7590-VHVEG 2020-01-01                   No  Month-to-month   \n",
      "1  5575-GNVDE 2017-04-01                   No        One year   \n",
      "2  3668-QPYBK 2019-10-01  2019-12-01 00:00:00  Month-to-month   \n",
      "3  7795-CFOCW 2016-05-01                   No        One year   \n",
      "4  9237-HQITU 2019-09-01  2019-11-01 00:00:00  Month-to-month   \n",
      "\n",
      "  paperless_billing             payment_method  monthly_charges  \\\n",
      "0               Yes           Electronic check            29.85   \n",
      "1                No               Mailed check            56.95   \n",
      "2               Yes               Mailed check            53.85   \n",
      "3                No  Bank transfer (automatic)            42.30   \n",
      "4               Yes           Electronic check            70.70   \n",
      "\n",
      "   total_charges  gender  senior_citizen partner dependents internetservice  \\\n",
      "0          29.85  Female               0     Yes         No             DSL   \n",
      "1        1889.50    Male               0      No         No             DSL   \n",
      "2         108.15    Male               0      No         No             DSL   \n",
      "3        1840.75    Male               0      No         No             DSL   \n",
      "4         151.65  Female               0      No         No     Fiber optic   \n",
      "\n",
      "  onlinesecurity onlinebackup deviceprotection techsupport streaming_tv  \\\n",
      "0             No          Yes               No          No           No   \n",
      "1            Yes           No              Yes          No           No   \n",
      "2            Yes          Yes               No          No           No   \n",
      "3            Yes           No              Yes         Yes           No   \n",
      "4             No           No               No          No           No   \n",
      "\n",
      "  streamingmovies multiple_lines  \n",
      "0              No            NaN  \n",
      "1              No             No  \n",
      "2              No             No  \n",
      "3              No            NaN  \n",
      "4              No             No  \n"
     ]
    }
   ],
   "source": [
    "# Unir datasets\n",
    "merged_df = pd.merge(contract, personal, how='left', on='customer_id')\n",
    "merged_df = pd.merge(merged_df, internet, how='left', on='customer_id')\n",
    "merged_df = pd.merge(merged_df, phone, how='left', on='customer_id')\n",
    "\n",
    "# Verificar la unión\n",
    "print(merged_df.info())\n",
    "print(merged_df.head())"
   ]
  },
  {
   "cell_type": "code",
   "execution_count": 16,
   "metadata": {},
   "outputs": [
    {
     "name": "stdout",
     "output_type": "stream",
     "text": [
      "customer_id             0\n",
      "begin_date              0\n",
      "end_date                0\n",
      "type                    0\n",
      "paperless_billing       0\n",
      "payment_method          0\n",
      "monthly_charges         0\n",
      "total_charges           0\n",
      "gender                  0\n",
      "senior_citizen          0\n",
      "partner                 0\n",
      "dependents              0\n",
      "internetservice      1526\n",
      "onlinesecurity       1526\n",
      "onlinebackup         1526\n",
      "deviceprotection     1526\n",
      "techsupport          1526\n",
      "streaming_tv         1526\n",
      "streamingmovies      1526\n",
      "multiple_lines        682\n",
      "dtype: int64\n"
     ]
    }
   ],
   "source": [
    "#Verificación de valores nulos\n",
    "print(merged_df.isnull().sum())"
   ]
  },
  {
   "cell_type": "code",
   "execution_count": 17,
   "metadata": {},
   "outputs": [],
   "source": [
    "#Limpieza de datos\n",
    "merged_df.fillna('None', inplace=True)"
   ]
  },
  {
   "cell_type": "code",
   "execution_count": 18,
   "metadata": {},
   "outputs": [
    {
     "name": "stdout",
     "output_type": "stream",
     "text": [
      "0\n"
     ]
    }
   ],
   "source": [
    "# Contar duplicados\n",
    "print(merged_df.duplicated().sum())"
   ]
  },
  {
   "cell_type": "code",
   "execution_count": 19,
   "metadata": {},
   "outputs": [
    {
     "name": "stdout",
     "output_type": "stream",
     "text": [
      "  customer_id             end_date  contract_ended\n",
      "0  7590-VHVEG                   No           False\n",
      "1  5575-GNVDE                   No           False\n",
      "2  3668-QPYBK  2019-12-01 00:00:00            True\n",
      "3  7795-CFOCW                   No           False\n",
      "4  9237-HQITU  2019-11-01 00:00:00            True\n"
     ]
    }
   ],
   "source": [
    "# Crear una nueva columna 'contract_ended' que muestra si el contrato terminó (True) o no (False)\n",
    "merged_df['contract_ended'] = merged_df['end_date'] != 'No'\n",
    "\n",
    "# Verificar los primeros registros para confirmar la creación de la nueva columna\n",
    "print(merged_df[['customer_id', 'end_date', 'contract_ended']].head())"
   ]
  },
  {
   "cell_type": "markdown",
   "metadata": {},
   "source": []
  },
  {
   "cell_type": "code",
   "execution_count": 20,
   "metadata": {},
   "outputs": [
    {
     "name": "stderr",
     "output_type": "stream",
     "text": [
      "C:\\Users\\jpizz\\AppData\\Local\\Temp\\ipykernel_4556\\1191079478.py:5: FutureWarning: \n",
      "\n",
      "Passing `palette` without assigning `hue` is deprecated and will be removed in v0.14.0. Assign the `x` variable to `hue` and set `legend=False` for the same effect.\n",
      "\n",
      "  sns.barplot(x=contract_status_counts.index, y=contract_status_counts.values, palette='Set2')\n"
     ]
    },
    {
     "data": {
      "image/png": "[encoded data removed]",
      "text/plain": [
       "<Figure size 640x480 with 1 Axes>"
      ]
     },
     "metadata": {},
     "output_type": "display_data"
    }
   ],
   "source": [
    "# Contar el número de clientes que han terminado o no su contrato\n",
    "contract_status_counts = merged_df['contract_ended'].value_counts()\n",
    "\n",
    "# Crear el gráfico de barras\n",
    "sns.barplot(x=contract_status_counts.index, y=contract_status_counts.values, palette='Set2')\n",
    "plt.title('Cantidad de clientes con contrato activo y terminado')\n",
    "plt.ylabel('Número de clientes')\n",
    "plt.xlabel('Contrato terminado')\n",
    "plt.xticks([0, 1], ['No', 'Sí'])  # Etiquetas personalizadas para el eje x\n",
    "\n",
    "# Añadir los números en las barras\n",
    "for i, count in enumerate(contract_status_counts.values):\n",
    "    plt.text(i, count + 50, str(count), ha='center', va='bottom', fontsize=10)  \n",
    "\n",
    "plt.show()"
   ]
  },
  {
   "cell_type": "markdown",
   "metadata": {},
   "source": [
    "### ¿Cuál es la distribución de los tipos de contratos entre los clientes?"
   ]
  },
  {
   "cell_type": "code",
   "execution_count": 21,
   "metadata": {},
   "outputs": [
    {
     "data": {
      "image/png": "[encoded data removed]",
      "text/plain": [
       "<Figure size 640x480 with 1 Axes>"
      ]
     },
     "metadata": {},
     "output_type": "display_data"
    }
   ],
   "source": [
    "sns.countplot(x='type', data=merged_df)\n",
    "plt.title('Distribución de tipos de contrato')\n",
    "plt.xlabel('Tipo de contrato')\n",
    "plt.ylabel('Número de clientes')\n",
    "plt.show()"
   ]
  },
  {
   "cell_type": "markdown",
   "metadata": {},
   "source": []
  },
  {
   "cell_type": "code",
   "execution_count": 22,
   "metadata": {},
   "outputs": [
    {
     "data": {
      "image/png": "[encoded data removed]",
      "text/plain": [
       "<Figure size 640x480 with 1 Axes>"
      ]
     },
     "metadata": {},
     "output_type": "display_data"
    }
   ],
   "source": [
    "import matplotlib.pyplot as plt\n",
    "\n",
    "# Calcular la tasa de cancelación por tipo de contrato\n",
    "churn_rate = merged_df.groupby('type')['end_date'].apply(lambda x: (x != 'No').mean())\n",
    "\n",
    "# Crear el gráfico de barras\n",
    "ax = churn_rate.plot(kind='bar', color='coral')\n",
    "\n",
    "# Título y etiquetas\n",
    "plt.title('Tasa de cancelación por tipo de contrato')\n",
    "plt.ylabel('Tasa de cancelación')\n",
    "plt.xlabel('Tipo de contrato')\n",
    "\n",
    "# Añadir etiquetas encima de cada barra\n",
    "for i, value in enumerate(churn_rate):\n",
    "    ax.text(i, value + 0.01, f'{value:.2f}', ha='center', va='bottom')\n",
    "\n",
    "# Mostrar el gráfico\n",
    "plt.tight_layout()\n",
    "plt.show()\n"
   ]
  },
  {
   "cell_type": "markdown",
   "metadata": {},
   "source": [
    "### ¿Cuál es la relación entre las tarifas mensuales (monthly_charges) y la tasa de cancelación?"
   ]
  },
  {
   "cell_type": "code",
   "execution_count": 23,
   "metadata": {},
   "outputs": [
    {
     "name": "stderr",
     "output_type": "stream",
     "text": [
      "C:\\Users\\jpizz\\AppData\\Local\\Temp\\ipykernel_4556\\2034213694.py:6: FutureWarning: \n",
      "\n",
      "Passing `palette` without assigning `hue` is deprecated and will be removed in v0.14.0. Assign the `x` variable to `hue` and set `legend=False` for the same effect.\n",
      "\n",
      "  sns.boxplot(x='contract_ended', y='monthly_charges', data=merged_df, palette=colors)\n"
     ]
    },
    {
     "data": {
      "image/png": "[encoded data removed]",
      "text/plain": [
       "<Figure size 800x600 with 1 Axes>"
      ]
     },
     "metadata": {},
     "output_type": "display_data"
    }
   ],
   "source": [
    "# Definir colores para cancelar y no cancelar\n",
    "colors = ['#FF9999', '#66B2FF']\n",
    "\n",
    "# Crear el boxplot con las mejoras\n",
    "plt.figure(figsize=(8, 6))\n",
    "sns.boxplot(x='contract_ended', y='monthly_charges', data=merged_df, palette=colors)\n",
    "\n",
    "# Etiquetas y títulos más claros\n",
    "plt.title('Comparación de tarifas mensuales entre clientes que cancelaron y no cancelaron', fontsize=14)\n",
    "plt.xlabel('Estado del contrato', fontsize=12)\n",
    "plt.ylabel('Tarifas mensuales (USD)', fontsize=12)\n",
    "\n",
    "# Personalizar etiquetas del eje X para claridad\n",
    "plt.xticks(ticks=[0, 1], labels=['No cancelaron', 'Cancelaron'], fontsize=11)\n",
    "\n",
    "# Mostrar la mediana en el gráfico\n",
    "medians = merged_df.groupby('contract_ended')['monthly_charges'].median()\n",
    "for index, median in enumerate(medians):\n",
    "    plt.text(index, median + 2, f'{median:.2f}', horizontalalignment='center', color='black', weight='semibold')\n",
    "\n",
    "plt.show()\n",
    "\n"
   ]
  },
  {
   "cell_type": "markdown",
   "metadata": {},
   "source": [
    "### ¿Cuál es la distribución del tiempo que los clientes han estado con la empresa? ¿Hay alguna diferencia entre los que cancelaron y los que no?"
   ]
  },
  {
   "cell_type": "code",
   "execution_count": 24,
   "metadata": {},
   "outputs": [
    {
     "data": {
      "image/png": "[encoded data removed]",
      "text/plain": [
       "<Figure size 1000x600 with 1 Axes>"
      ]
     },
     "metadata": {},
     "output_type": "display_data"
    }
   ],
   "source": [
    "# Crear la columna 'tenure' si no está creada\n",
    "merged_df['tenure'] = (pd.to_datetime('2020-02-01') - pd.to_datetime(merged_df['begin_date'])).dt.days // 30\n",
    "\n",
    "# Graficar la distribución de tenure, diferenciando entre clientes que cancelaron y no\n",
    "plt.figure(figsize=(10, 6))\n",
    "sns.histplot(data=merged_df, x='tenure', hue='contract_ended', kde=True, palette=['#FF9999', '#66B2FF'])\n",
    "\n",
    "# Etiquetas y título del gráfico\n",
    "plt.title('Distribución del tiempo con la empresa: Comparación entre cancelaciones', fontsize=14)\n",
    "plt.xlabel('Meses de permanencia', fontsize=12)\n",
    "plt.ylabel('Cantidad de clientes', fontsize=12)\n",
    "plt.legend(title='Cancelación', labels=['No cancelaron', 'Cancelaron'])\n",
    "plt.show()"
   ]
  },
  {
   "cell_type": "markdown",
   "metadata": {},
   "source": [
    "### ¿Ciertos métodos de pago están más relacionados con la cancelación que otros?"
   ]
  },
  {
   "cell_type": "code",
   "execution_count": 25,
   "metadata": {},
   "outputs": [
    {
     "data": {
      "image/png": "[encoded data removed]",
      "text/plain": [
       "<Figure size 640x480 with 1 Axes>"
      ]
     },
     "metadata": {},
     "output_type": "display_data"
    }
   ],
   "source": [
    "sns.countplot(x='payment_method', hue=merged_df['end_date'] != 'No', data=merged_df)\n",
    "plt.title('Relación entre método de pago y cancelación')\n",
    "plt.xlabel('Método de pago')\n",
    "plt.ylabel('Número de clientes')\n",
    "plt.xticks(rotation=45)\n",
    "plt.show()"
   ]
  },
  {
   "cell_type": "markdown",
   "metadata": {},
   "source": []
  },
  {
   "cell_type": "code",
   "execution_count": 29,
   "metadata": {},
   "outputs": [],
   "source": [
    "# Función para convertir 'Yes' y 'No' en 1 y 0, y rellenar 'None' con la moda\n",
    "def convertir_columnas_yes_no(df):\n",
    "    # Convertir 'Yes' a 1 y 'No' a 0\n",
    "    columnas_binarias = df.select_dtypes(include=['object']).columns\n",
    "    for col in columnas_binarias:\n",
    "        if df[col].isin(['Yes', 'No']).all():\n",
    "            df[col] = df[col].map({'Yes': 1, 'No': 0})\n",
    "    \n",
    "    # Imputar valores 'None' con la moda de la columna\n",
    "    for col in df.columns:\n",
    "        if df[col].isnull().any():\n",
    "            moda = df[col].mode()[0]  # Obtener la moda\n",
    "            df[col].fillna(moda, inplace=True)\n",
    "    \n",
    "    return df"
   ]
  },
  {
   "cell_type": "code",
   "execution_count": 30,
   "metadata": {},
   "outputs": [],
   "source": [
    "# 1. Función para OHE y escalado\n",
    "def procesar_datos(df, target_col):\n",
    "    # Separar variables categóricas y numéricas\n",
    "    cat_cols = df.select_dtypes(include=['object']).columns\n",
    "    num_cols = df.select_dtypes(include=['int64', 'float64']).columns\n",
    "\n",
    "    # One-Hot Encoding para variables categóricas\n",
    "    ohe = OneHotEncoder(drop='first', sparse=False)\n",
    "    df_ohe = pd.DataFrame(ohe.fit_transform(df[cat_cols]), columns=ohe.get_feature_names_out(cat_cols))\n",
    "    \n",
    "    # Escalar las variables numéricas\n",
    "    scaler = StandardScaler()\n",
    "    df_scaled = pd.DataFrame(scaler.fit_transform(df[num_cols]), columns=num_cols)\n",
    "\n",
    "    # Combinar las columnas transformadas\n",
    "    df_final = pd.concat([df_scaled, df_ohe, df[target_col].reset_index(drop=True)], axis=1)\n",
    "    \n",
    "    return df_final"
   ]
  },
  {
   "cell_type": "code",
   "execution_count": 31,
   "metadata": {},
   "outputs": [],
   "source": [
    "# 2. Función para división de los datos\n",
    "def dividir_datos(df, target_col, test_size=0.2, val_size=0.1):\n",
    "    X = df.drop(columns=target_col)\n",
    "    y = df[target_col]\n",
    "    \n",
    "    # Dividir entre entrenamiento y test\n",
    "    X_train, X_test, y_train, y_test = train_test_split(X, y, test_size=test_size, random_state=42, stratify=y)\n",
    "    \n",
    "    # Dividir el set de entrenamiento para obtener un conjunto de validación\n",
    "    X_train, X_val, y_train, y_val = train_test_split(X_train, y_train, test_size=val_size, random_state=42, stratify=y_train)\n",
    "    \n",
    "    return X_train, X_test, X_val, y_train, y_test, y_val"
   ]
  },
  {
   "cell_type": "code",
   "execution_count": 32,
   "metadata": {},
   "outputs": [],
   "source": [
    "# 3. Función para sobremuestreo (upsampling)\n",
    "def upsample(X_train, y_train):\n",
    "    X = pd.concat([X_train, y_train], axis=1)\n",
    "    majority_class = X[y_train.name == 0]  # Clase mayoritaria\n",
    "    minority_class = X[y_train.name == 1]  # Clase minoritaria\n",
    "    \n",
    "    # Aumentar la clase minoritaria\n",
    "    minority_upsampled = resample(minority_class, replace=True, n_samples=len(majority_class), random_state=42)\n",
    "    \n",
    "    # Combinar el set original con el sobremuestreado\n",
    "    upsampled = pd.concat([majority_class, minority_upsampled])\n",
    "    \n",
    "    # Dividir nuevamente en X e y\n",
    "    return upsampled.drop(columns=y_train.name), upsampled[y_train.name]"
   ]
  },
  {
   "cell_type": "code",
   "execution_count": 33,
   "metadata": {},
   "outputs": [],
   "source": [
    "# 4. Función para submuestreo (downsampling)\n",
    "def downsample(X_train, y_train):\n",
    "    X = pd.concat([X_train, y_train], axis=1)\n",
    "    majority_class = X[y_train.name == 0]  # Clase mayoritaria\n",
    "    minority_class = X[y_train.name == 1]  # Clase minoritaria\n",
    "    \n",
    "    # Reducir la clase mayoritaria\n",
    "    majority_downsampled = resample(majority_class, replace=False, n_samples=len(minority_class), random_state=42)\n",
    "    \n",
    "    # Combinar el set original con el submuestreado\n",
    "    downsampled = pd.concat([minority_class, majority_downsampled])\n",
    "    \n",
    "    # Dividir nuevamente en X e y\n",
    "    return downsampled.drop(columns=y_train.name), downsampled[y_train.name]"
   ]
  },
  {
   "cell_type": "code",
   "execution_count": null,
   "metadata": {},
   "outputs": [],
   "source": []
  },
  {
   "cell_type": "code",
   "execution_count": null,
   "metadata": {},
   "outputs": [],
   "source": []
  }
 ],
 "metadata": {
  "kernelspec": {
   "display_name": ".venv",
   "language": "python",
   "name": "python3"
  },
  "language_info": {
   "codemirror_mode": {
    "name": "ipython",
    "version": 3
   },
   "file_extension": ".py",
   "mimetype": "text/x-python",
   "name": "python",
   "nbconvert_exporter": "python",
   "pygments_lexer": "ipython3",
   "version": "3.11.5"
  }
 },
 "nbformat": 4,
 "nbformat_minor": 2
}
